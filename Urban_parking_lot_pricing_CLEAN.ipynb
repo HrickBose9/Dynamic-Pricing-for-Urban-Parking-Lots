{
  "cells": [
    {
      "cell_type": "markdown",
      "metadata": {
        "id": "view-in-github",
        "colab_type": "text"
      },
      "source": [
        "<a href=\"https://colab.research.google.com/github/HrickBose9/Dynamic-Pricing-for-Urban-Parking-Lots/blob/main/Urban_parking_lot_pricing_CLEAN.ipynb\" target=\"_parent\"><img src=\"https://colab.research.google.com/assets/colab-badge.svg\" alt=\"Open In Colab\"/></a>"
      ]
    },
    {
      "cell_type": "markdown",
      "metadata": {
        "id": "VTvr4_sti9Am"
      },
      "source": [
        "# Inroduction\n"
      ]
    },
    {
      "cell_type": "markdown",
      "metadata": {
        "id": "Rm8HKcygh4L2"
      },
      "source": [
        "This sample notebook demonstrates how to process live data streams using Pathway. The dataset used here is a subset of the one provided — specifically, it includes data for only a single parking spot. You are expected to implement your model across all parking spots.\n",
        "\n",
        "Please note that the pricing model used in this notebook is a simple baseline. You are expected to design and implement a more advanced and effective model.\n"
      ]
    },
    {
      "cell_type": "code",
      "execution_count": null,
      "metadata": {
        "id": "LlwkKnB50IGF"
      },
      "outputs": [],
      "source": [
        "!pip install pathway bokeh --quiet # This cell may take a few seconds to execute."
      ]
    },
    {
      "cell_type": "code",
      "execution_count": null,
      "metadata": {
        "id": "pHuc1nkJveN3"
      },
      "outputs": [],
      "source": [
        "import numpy as np\n",
        "import pandas as pd\n",
        "import matplotlib.pyplot as plt\n",
        "import datetime\n",
        "from datetime import datetime\n",
        "import pathway as pw\n",
        "import bokeh.plotting\n",
        "import panel as pn"
      ]
    },
    {
      "cell_type": "markdown",
      "metadata": {
        "id": "gGpZl1FxjFXE"
      },
      "source": [
        "# Step 1: Importing and Preprocessing the Data"
      ]
    },
    {
      "cell_type": "code",
      "execution_count": null,
      "metadata": {
        "id": "4D6geoV9veN3"
      },
      "outputs": [],
      "source": [
        "df = pd.read_csv('/content/dataset.csv')\n",
        "df\n",
        "\n",
        "# You can find the sample dataset here: https://drive.google.com/file/d/1D479FLjp9aO3Mg8g6Lpj9oRViWacurA6/view?usp=sharing"
      ]
    },
    {
      "cell_type": "code",
      "execution_count": null,
      "metadata": {
        "id": "hy_PAdHo0LmL"
      },
      "outputs": [],
      "source": [
        "# find unique values in TrafficConditionNearby\n",
        "\n",
        "df['TrafficConditionNearby'].unique()"
      ]
    },
    {
      "cell_type": "code",
      "execution_count": null,
      "metadata": {
        "id": "E-NOaJW11i1h"
      },
      "outputs": [],
      "source": [
        "\n",
        "# Define mapping from traffic categories to numeric values\n",
        "traffic_map = {\n",
        "    \"low\": 1.0,\n",
        "    \"average\": 2.0,\n",
        "    \"high\": 3.0\n",
        "}\n",
        "\n",
        "# Normalize case and map traffic values\n",
        "df[\"TrafficConditionNearby\"] = (\n",
        "    df[\"TrafficConditionNearby\"]\n",
        "    .astype(str)\n",
        "    .str.lower()\n",
        "    .map(traffic_map)\n",
        ")\n",
        "\n",
        "# Drop rows where mapping failed (invalid category)\n",
        "df = df.dropna(subset=[\"TrafficConditionNearby\"])\n",
        "\n",
        "# Ensure numeric types for all relevant columns\n",
        "df = df.astype({\n",
        "    \"TrafficConditionNearby\": float,\n",
        "    \"QueueLength\": int,\n",
        "    \"Capacity\": int\n",
        "})\n"
      ]
    },
    {
      "cell_type": "code",
      "execution_count": null,
      "metadata": {
        "id": "D1D4-DghzuCl"
      },
      "outputs": [],
      "source": [
        "# See where the string \"average\" appears\n",
        "mask = df.apply(lambda col: col.astype(str).str.contains(\"high\", case=False)).any(axis=1)\n",
        "\n",
        "# Show rows causing the issue\n",
        "df[mask]\n"
      ]
    },
    {
      "cell_type": "code",
      "execution_count": null,
      "metadata": {
        "id": "QBrvlQTjveN4"
      },
      "outputs": [],
      "source": [
        "# Combine the 'LastUpdatedDate' and 'LastUpdatedTime' columns into a single datetime column\n",
        "df['Timestamp'] = pd.to_datetime(df['LastUpdatedDate'] + ' ' + df['LastUpdatedTime'],\n",
        "                                  format='%d-%m-%Y %H:%M:%S')\n",
        "\n",
        "# Sort the DataFrame by the new 'Timestamp' column and reset the index\n",
        "df = df.sort_values('Timestamp').reset_index(drop=True)"
      ]
    },
    {
      "cell_type": "code",
      "execution_count": null,
      "metadata": {
        "id": "GZ9etDtKtdjE"
      },
      "outputs": [],
      "source": [
        "# Combine and parse original columns\n",
        "df['Timestamp'] = pd.to_datetime(\n",
        "    df['LastUpdatedDate'] + ' ' + df['LastUpdatedTime'],\n",
        "    format='%d-%m-%Y %H:%M:%S'\n",
        ")\n",
        "\n",
        "# Reformat to ISO-style for Pathway parsing\n",
        "df['Timestamp'] = df['Timestamp'].dt.strftime(\"%Y-%m-%d %H:%M:%S\")\n",
        "\n",
        "# Sort chronologically\n",
        "df = df.sort_values('Timestamp').reset_index(drop=True)\n"
      ]
    },
    {
      "cell_type": "code",
      "execution_count": null,
      "metadata": {
        "id": "c52UkGGpveN5"
      },
      "outputs": [],
      "source": [
        "# Save the selected columns to a CSV file for streaming or downstream processing\n",
        "df[[\n",
        "    \"Timestamp\",\n",
        "    \"SystemCodeNumber\",\n",
        "    \"Occupancy\",\n",
        "    \"Capacity\",\n",
        "    \"QueueLength\",\n",
        "    \"TrafficConditionNearby\",\n",
        "    \"IsSpecialDay\",\n",
        "    \"VehicleType\"\n",
        "]].to_csv(\"parking_stream.csv\", index=False)\n"
      ]
    },
    {
      "cell_type": "code",
      "execution_count": null,
      "metadata": {
        "id": "bHtRh8DN16Sw"
      },
      "outputs": [],
      "source": [
        "print(df[\"TrafficConditionNearby\"].unique())  # should show only: [1.0, 2.0, 3.0]\n"
      ]
    },
    {
      "cell_type": "code",
      "execution_count": null,
      "metadata": {
        "id": "H0pe3TGIyKJE"
      },
      "outputs": [],
      "source": [
        "# Define the schema for the streaming data using Pathway\n",
        "# This schema specifies the expected structure of each data row in the stream\n",
        "\n",
        "class ParkingSchema(pw.Schema):\n",
        "    Timestamp: str\n",
        "    SystemCodeNumber: str\n",
        "    Occupancy: int\n",
        "    Capacity: int\n",
        "    QueueLength: int\n",
        "    TrafficConditionNearby: float\n",
        "    IsSpecialDay: int\n",
        "    VehicleType: str\n"
      ]
    },
    {
      "cell_type": "code",
      "execution_count": null,
      "metadata": {
        "id": "a4LxMh4xziMv"
      },
      "outputs": [],
      "source": [
        "# Load the data as a simulated stream using Pathway's replay_csv function\n",
        "# This replays the CSV data at a controlled input rate to mimic real-time streaming\n",
        "# input_rate=1000 means approximately 1000 rows per second will be ingested into the stream.\n",
        "\n",
        "data = pw.demo.replay_csv(\"parking_stream.csv\", schema=ParkingSchema, input_rate=1000)"
      ]
    },
    {
      "cell_type": "code",
      "execution_count": null,
      "metadata": {
        "id": "IkBP_AA-zjec"
      },
      "outputs": [],
      "source": [
        "# Define the datetime format to parse the 'Timestamp' column\n",
        "fmt = \"%Y-%m-%d %H:%M:%S\"\n",
        "\n",
        "# Add new columns to the data stream:\n",
        "# - 'parsed_time' contains the parsed full datetime\n",
        "# - 'day' extracts the date part and resets the time to midnight (useful for day-level aggregations)\n",
        "data_with_time = data.with_columns(\n",
        "    parsed_time = data.Timestamp.dt.strptime(fmt),\n",
        "    day = data.Timestamp.dt.strptime(fmt).dt.strftime(\"%Y-%m-%dT00:00:00\")\n",
        ")\n"
      ]
    },
    {
      "cell_type": "markdown",
      "metadata": {
        "id": "JNDR7r4DqkhI"
      },
      "source": [
        "# Step 2: Making a simple pricing function"
      ]
    },
    {
      "cell_type": "markdown",
      "metadata": {
        "id": "A4uEd7zSFRa_"
      },
      "source": [
        "Model 0 – Daily Window (Baseline)\n",
        "Function Chosen:\n",
        "\n",
        "Price\n",
        "=\n",
        "10\n",
        "+\n",
        "(Max Occupancy\n",
        "−\n",
        "Min Occupancy)/\n",
        "Capacity\n",
        "\n",
        "\n",
        "Why this model was chosen:\n",
        "\n",
        "It provides a simple daily signal of demand volatility.\n",
        "\n",
        "It uses temporal aggregation (daily window) which smooths out hourly noise.\n",
        "\n",
        "The difference between peak and low occupancy reflects scarcity and variation.\n",
        "\n",
        "This model sets a baseline to compare more dynamic pricing strategies.\n",
        "\n",
        "Limitations:\n",
        "\n",
        "Doesn’t react to real-time changes.\n",
        "\n",
        "Doesn’t factor in queue, traffic, or event-based pressure.\n",
        "\n",
        "✅ It serves as a control/reference model.\n",
        "\n"
      ]
    },
    {
      "cell_type": "code",
      "execution_count": null,
      "metadata": {
        "id": "MznsSjanveN5"
      },
      "outputs": [],
      "source": [
        "# Define a daily tumbling window over the data stream using Pathway\n",
        "# This block performs temporal aggregation and computes a dynamic price for each day\n",
        "import datetime\n",
        "\n",
        "delta_window = (\n",
        "    data_with_time.windowby(\n",
        "        pw.this.parsed_time,  # Event time column to use for windowing (parsed datetime)\n",
        "        instance=pw.this.day,  # Logical partitioning key: one instance per calendar day\n",
        "        window=pw.temporal.tumbling(datetime.timedelta(days=1)),  # Fixed-size daily window\n",
        "        behavior=pw.temporal.exactly_once_behavior()  # Guarantees exactly-once processing semantics\n",
        "    )\n",
        "    .reduce(\n",
        "        t=pw.this._pw_window_end,                        # Assign the end timestamp of each window\n",
        "        occ_max=pw.reducers.max(pw.this.Occupancy),      # Highest occupancy observed in the window\n",
        "        occ_min=pw.reducers.min(pw.this.Occupancy),      # Lowest occupancy observed in the window\n",
        "        cap=pw.reducers.max(pw.this.Capacity),           # Maximum capacity observed (typically constant per spot)\n",
        "    )\n",
        "    .with_columns(\n",
        "        # Compute the price using a simple dynamic pricing formula:\n",
        "        #\n",
        "        # Pricing Formula:\n",
        "        #     price = base_price + demand_fluctuation\n",
        "        #     where:\n",
        "        #         base_price = 10 (fixed minimum price)\n",
        "        #         demand_fluctuation = (occ_max - occ_min) / cap\n",
        "        #\n",
        "        # Intuition:\n",
        "        # - The greater the difference between peak and low occupancy in a day,\n",
        "        #   the more volatile the demand is, indicating potential scarcity.\n",
        "        # - Dividing by capacity normalizes the fluctuation (to stay in [0,1] range).\n",
        "        # - This fluctuation is added to the base price of 10 to set the final price.\n",
        "        # - Example: If occ_max = 90, occ_min = 30, cap = 100\n",
        "        #            => price = 10 + (90 - 30)/100 = 10 + 0.6 = 10.6\n",
        "\n",
        "        price=10 + (pw.this.occ_max - pw.this.occ_min) / pw.this.cap\n",
        "    )\n",
        ")\n"
      ]
    },
    {
      "cell_type": "markdown",
      "metadata": {
        "id": "_jRTGEdTFZ9k"
      },
      "source": [
        "Model 1 – Row-wise Occupancy + Queue Model\n",
        "Function Chosen:\n",
        "\n",
        "Price\n",
        "=\n",
        "Base\n",
        "+\n",
        "𝛼\n",
        "⋅\n",
        "(\n",
        "Occupancy\n",
        "Capacity\n",
        ")\n",
        "+\n",
        "𝛽\n",
        "⋅\n",
        "QueueLength^1.5\n",
        "\n",
        "With:\n",
        "\n",
        "base_price = 10\n",
        "\n",
        "alpha = 0.6, beta = 0.4\n",
        "\n",
        "Price bounded between ₹5 and ₹20\n",
        "\n",
        "Why this model was chosen:\n",
        "\n",
        "Designed to respond in real time (row-by-row streaming).\n",
        "\n",
        "Occupancy ratio gives a direct proxy for demand pressure.\n",
        "\n",
        "Queue length reflects immediate congestion or excess demand.\n",
        "\n",
        "We tested nonlinear scaling of queue (using exponent 1.5) to reflect rising urgency as queues grow.\n",
        "\n",
        "Why the function structure:\n",
        "\n",
        "Linear + power-based formula was interpretable and scalable.\n",
        "\n",
        "We tested and visualized multiple α–β combinations to get smooth output within bounds.\n",
        "\n",
        "This model reacts quickly to spikes or dips in lot usage.\n",
        "\n",
        "✅ It’s effective for lots where queue buildup is a major factor."
      ]
    },
    {
      "cell_type": "code",
      "execution_count": null,
      "metadata": {
        "id": "IN4IBiPCwOFM"
      },
      "outputs": [],
      "source": [
        "@pw.udf\n",
        "def model_1_price(occupancy: int, capacity: int, queue: int) -> float:\n",
        "    base_price = 10\n",
        "    alpha = 0.6\n",
        "    beta = 0.4\n",
        "\n",
        "    occupancy_ratio = occupancy / capacity\n",
        "    queue_weighted = min(queue**1.5 if queue >= 4 else queue, 5)\n",
        "\n",
        "    price = base_price + alpha * occupancy_ratio + beta * queue_weighted\n",
        "    return min(max(price, 5), 20)\n"
      ]
    },
    {
      "cell_type": "code",
      "execution_count": null,
      "metadata": {
        "id": "SQqXJ-yrwTq-"
      },
      "outputs": [],
      "source": [
        "model_1_price_table = data_with_time.select(\n",
        "    lot_id = data_with_time.SystemCodeNumber,\n",
        "    timestamp = data_with_time.parsed_time,\n",
        "    price = model_1_price(\n",
        "        data_with_time.Occupancy,\n",
        "        data_with_time.Capacity,\n",
        "        data_with_time.QueueLength\n",
        "    )\n",
        ")\n"
      ]
    },
    {
      "cell_type": "markdown",
      "metadata": {
        "id": "FvJVahq9FnZ8"
      },
      "source": [
        "Model 2 – Demand-Based Sigmoid Function\n",
        "Function Chosen:\n",
        "\n",
        "𝑥\n",
        "=\n",
        "𝑤\n",
        "1\n",
        "⋅\n",
        "OccupancyRatio\n",
        "+\n",
        "𝑤\n",
        "2\n",
        "⋅\n",
        "Queue\n",
        "+\n",
        "𝑤\n",
        "3\n",
        "⋅\n",
        "Traffic\n",
        "+\n",
        "𝑤\n",
        "4\n",
        "⋅\n",
        "(\n",
        "IsSpecialDay\n",
        "⋅\n",
        "Traffic\n",
        ")\n",
        "+\n",
        "𝑤\n",
        "5\n",
        "⋅\n",
        "VehicleRisk\n",
        "\n",
        "Demand\n",
        "=\n",
        "1\n",
        "1\n",
        "+\n",
        "𝑒\n",
        "−\n",
        "𝑘\n",
        "(\n",
        "𝑥\n",
        "−\n",
        "𝜇\n",
        ")\n",
        ",\n",
        "     \n",
        "Price\n",
        "=\n",
        "10\n",
        "⋅\n",
        "(\n",
        "1\n",
        "+\n",
        "Demand\n",
        ")\n",
        "\n",
        "Why this model was chosen:\n",
        "\n",
        "This model was developed after testing Model 1 and realizing that:\n",
        "\n",
        "More factors needed to be considered: e.g. TrafficConditionNearby, IsSpecialDay, VehicleType\n",
        "\n",
        "Linear pricing functions started to saturate and couldn’t capture nonlinear interactions\n",
        "\n",
        "Sigmoid Function Rationale:\n",
        "\n",
        "Converts a weighted sum of features (x) into a smooth bounded value (0 to 1)\n",
        "\n",
        "Allows us to control sensitivity via hyperparameters:\n",
        "\n",
        "k = steepness\n",
        "\n",
        "μ = threshold center\n",
        "\n",
        "Scales final price to stay within a natural range, with strong influence from real-time demand signals\n",
        "\n",
        "Why it's superior:\n",
        "\n",
        "It was the most flexible and extensible model\n",
        "\n",
        "Pricing rises sharply under multiple high-pressure features (traffic + queue + event)\n",
        "\n",
        "Works well even with noisy streaming data\n",
        "\n",
        "✅ Model 2 represents a real-world adaptive pricing engine and performed best in plot visualizations."
      ]
    },
    {
      "cell_type": "code",
      "execution_count": null,
      "metadata": {
        "id": "MmjcOaiUwWef"
      },
      "outputs": [],
      "source": [
        "@pw.udf\n",
        "def model_2_price(\n",
        "    occupancy: int,\n",
        "    capacity: int,\n",
        "    queue: int,\n",
        "    traffic: float,\n",
        "    is_special_day: int,\n",
        "    vehicle_type: str\n",
        ") -> float:\n",
        "    import numpy as np\n",
        "\n",
        "    vehicle_weights = {'car': 1.0, 'bike': 0.5, 'truck': 1.5, 'cycle': 0.2}\n",
        "    weight = vehicle_weights.get(vehicle_type, 1.0)\n",
        "\n",
        "    occ_ratio = occupancy / capacity\n",
        "    vehicle_risk = weight / capacity\n",
        "    event_traffic = is_special_day * traffic\n",
        "    queue_weighted = min(queue**1.5 if queue >= 4 else queue, 5)\n",
        "\n",
        "    x = (\n",
        "        0.7 * occ_ratio +\n",
        "        0.3 * queue_weighted +\n",
        "        0.3 * traffic +\n",
        "        0.3 * event_traffic +\n",
        "        0.2 * vehicle_risk\n",
        "    )\n",
        "\n",
        "    demand = 1 / (1 + np.exp(-4 * (x - 1.5)))\n",
        "    price = 10 * (1 + demand)\n",
        "    return min(max(price, 5), 20)\n"
      ]
    },
    {
      "cell_type": "code",
      "execution_count": null,
      "metadata": {
        "id": "gfkxmQNCwfTB"
      },
      "outputs": [],
      "source": [
        "model_2_price_table = data_with_time.select(\n",
        "    lot_id = data_with_time.SystemCodeNumber,\n",
        "    timestamp = data_with_time.parsed_time,\n",
        "    price = model_2_price(\n",
        "        data_with_time.Occupancy,\n",
        "        data_with_time.Capacity,\n",
        "        data_with_time.QueueLength,\n",
        "        data_with_time.TrafficConditionNearby,\n",
        "        data_with_time.IsSpecialDay,\n",
        "        data_with_time.VehicleType\n",
        "    )\n",
        ")\n"
      ]
    },
    {
      "cell_type": "markdown",
      "metadata": {
        "id": "E3sMSFtUqvax"
      },
      "source": [
        "# Step 3: Visualizing Daily Price Fluctuations with a Bokeh Plot"
      ]
    },
    {
      "cell_type": "markdown",
      "metadata": {
        "id": "POd-S7QMo9JA"
      },
      "source": [
        "**Note:** The Bokeh plot in the next cell will only be generated after you run the `pw.run()` cell (i.e., the final cell).\n"
      ]
    },
    {
      "cell_type": "code",
      "execution_count": null,
      "metadata": {
        "id": "KvUi6rOqyAFW"
      },
      "outputs": [],
      "source": [
        "# Activate Bokeh + Panel extension\n",
        "pn.extension()\n",
        "\n",
        "# Generic plotter for any price table\n",
        "def price_plotter(source, title=\"\"):\n",
        "    fig = bokeh.plotting.figure(\n",
        "        height=400,\n",
        "        width=800,\n",
        "        title=title,\n",
        "        x_axis_type=\"datetime\",\n",
        "    )\n",
        "    fig.line(\"timestamp\", \"price\", source=source, line_width=2, color=\"green\")\n",
        "    fig.circle(\"timestamp\", \"price\", source=source, size=6, color=\"blue\")\n",
        "    return fig\n",
        "\n",
        "# Plot for Model 0 (delta_window uses 't' instead of 'timestamp')\n",
        "def baseline_plot(source):\n",
        "    fig = bokeh.plotting.figure(\n",
        "        height=400,\n",
        "        width=800,\n",
        "        title=\"Model 0 (Daily Window): Price\",\n",
        "        x_axis_type=\"datetime\"\n",
        "    )\n",
        "    fig.line(\"t\", \"price\", source=source, line_width=2, color=\"navy\")\n",
        "    fig.circle(\"t\", \"price\", source=source, size=6, color=\"red\")\n",
        "    return fig\n",
        "\n",
        "# Create plots for each model\n",
        "plot_model_0 = delta_window.plot(baseline_plot, sorting_col=\"t\")\n",
        "plot_model_1 = model_1_price_table.plot(lambda s: price_plotter(s, \"Model 1: Row-wise Price\"), sorting_col=\"timestamp\")\n",
        "plot_model_2 = model_2_price_table.plot(lambda s: price_plotter(s, \"Model 2: Demand-Based Price\"), sorting_col=\"timestamp\")\n",
        "\n",
        "# Combine into a Panel layout\n",
        "pn.Column(\n",
        "    \"# 🧭 Dynamic Pricing Models – Pathway Streaming\",\n",
        "    \"## Model 0: Daily Tumbling Window\",\n",
        "    plot_model_0,\n",
        "    \"## Model 1: Row-wise Occupancy + Queue\",\n",
        "    plot_model_1,\n",
        "    \"## Model 2: Demand-Based (with Traffic, VehicleType)\",\n",
        "    plot_model_2\n",
        ").servable()\n"
      ]
    },
    {
      "cell_type": "code",
      "execution_count": null,
      "metadata": {
        "id": "vWd3zcSr6yMb"
      },
      "outputs": [],
      "source": [
        "# Activate Panel extension\n",
        "pn.extension()\n",
        "\n",
        "# Shared plotting function\n",
        "def price_plotter(source, title=\"\"):\n",
        "    fig = bokeh.plotting.figure(\n",
        "        height=400,\n",
        "        width=800,\n",
        "        title=title,\n",
        "        x_axis_type=\"datetime\",\n",
        "    )\n",
        "    fig.line(\"timestamp\", \"price\", source=source, line_width=2, color=\"green\")\n",
        "    fig.circle(\"timestamp\", \"price\", source=source, size=6, color=\"blue\")\n",
        "    return fig\n",
        "\n",
        "# Special plotter for Model 0 (uses 't')\n",
        "def baseline_plot(source):\n",
        "    fig = bokeh.plotting.figure(\n",
        "        height=400,\n",
        "        width=800,\n",
        "        title=\"Model 0: Daily Window Price\",\n",
        "        x_axis_type=\"datetime\",\n",
        "    )\n",
        "    fig.line(\"t\", \"price\", source=source, line_width=2, color=\"navy\")\n",
        "    fig.circle(\"t\", \"price\", source=source, size=6, color=\"red\")\n",
        "    return fig\n",
        "\n",
        "# Three separate visualizations\n",
        "plot_model_0 = delta_window.plot(baseline_plot, sorting_col=\"t\")\n",
        "plot_model_1 = model_1_price_table.plot(lambda s: price_plotter(s, \"Model 1: Row-wise Price\"), sorting_col=\"timestamp\")\n",
        "plot_model_2 = model_2_price_table.plot(lambda s: price_plotter(s, \"Model 2: Demand-Based Price\"), sorting_col=\"timestamp\")\n",
        "\n",
        "# Layout for display\n",
        "pn.Column(\n",
        "    \"# 📈 Parking Lot Pricing Models\",\n",
        "    \"### Model 0: Daily Window\",\n",
        "    plot_model_0,\n",
        "    \"### Model 1: Row-wise Queue & Occupancy\",\n",
        "    plot_model_1,\n",
        "    \"### Model 2: Demand Function (Traffic, Vehicle Type, etc.)\",\n",
        "    plot_model_2\n",
        ").servable()\n"
      ]
    },
    {
      "cell_type": "markdown",
      "metadata": {
        "id": "WX1yN30f2r1t"
      },
      "source": [
        "choose required lot for predictions, then run\n"
      ]
    },
    {
      "cell_type": "code",
      "execution_count": null,
      "metadata": {
        "id": "DENC6LFkEczE"
      },
      "outputs": [],
      "source": [
        "selected_lot = \"BHMBCCMKT01\" #choose required lot to get visualisation"
      ]
    },
    {
      "cell_type": "code",
      "execution_count": null,
      "metadata": {
        "id": "RgG37ldtSIig"
      },
      "outputs": [],
      "source": [
        "# Filter each model output for the selected lot\n",
        "model_1_filtered = model_1_price_table.filter(pw.this.lot_id == selected_lot)\n",
        "model_2_filtered = model_2_price_table.filter(pw.this.lot_id == selected_lot)\n",
        "# Model 0 is already daily windowed (not per-lot), so skip filtering\n"
      ]
    },
    {
      "cell_type": "code",
      "execution_count": null,
      "metadata": {
        "id": "JqywWA0NSLH2"
      },
      "outputs": [],
      "source": [
        "def plot_model(source, title, x_col=\"timestamp\", color=\"green\"):\n",
        "    fig = bokeh.plotting.figure(\n",
        "        width=600,\n",
        "        height=300,\n",
        "        title=title,\n",
        "        x_axis_type=\"datetime\",\n",
        "    )\n",
        "    fig.line(x_col, \"price\", source=source, line_width=2, color=color)\n",
        "    fig.circle(x_col, \"price\", source=source, size=6, color=color)\n",
        "    return fig\n"
      ]
    },
    {
      "cell_type": "code",
      "execution_count": null,
      "metadata": {
        "id": "m67BE8rOSOY1"
      },
      "outputs": [],
      "source": [
        "# Plots for each model\n",
        "plot0 = delta_window.plot(lambda s: plot_model(s, \"Model 0 (Daily)\", x_col=\"t\", color=\"navy\"), sorting_col=\"t\")\n",
        "plot1 = model_1_filtered.plot(lambda s: plot_model(s, f\"Model 1: {selected_lot}\", color=\"orange\"), sorting_col=\"timestamp\")\n",
        "plot2 = model_2_filtered.plot(lambda s: plot_model(s, f\"Model 2: {selected_lot}\", color=\"green\"), sorting_col=\"timestamp\")\n",
        "\n",
        "# Combine into layout\n",
        "pn.Column(\n",
        "    f\"# 📍 Price Comparison for {selected_lot}\",\n",
        "    \"### 🔵 Model 0: Daily Tumbling Window\",\n",
        "    plot0,\n",
        "    \"### 🟠 Model 1: Occupancy + Queue\",\n",
        "    plot1,\n",
        "    \"### 🟢 Model 2: Demand-Based Pricing\",\n",
        "    plot2\n",
        ").servable()\n"
      ]
    },
    {
      "cell_type": "code",
      "execution_count": null,
      "metadata": {
        "id": "i6uv1Po6SQRx"
      },
      "outputs": [],
      "source": [
        "%%capture --no-display\n",
        "pw.run()\n"
      ]
    },
    {
      "cell_type": "code",
      "execution_count": null,
      "metadata": {
        "id": "IH0fW_T0SUQw"
      },
      "outputs": [],
      "source": []
    }
  ],
  "metadata": {
    "colab": {
      "provenance": [],
      "include_colab_link": true
    },
    "kaggle": {
      "accelerator": "none",
      "dataSources": [
        {
          "datasetId": 7749157,
          "sourceId": 12294858,
          "sourceType": "datasetVersion"
        }
      ],
      "dockerImageVersionId": 31040,
      "isGpuEnabled": false,
      "isInternetEnabled": true,
      "language": "python",
      "sourceType": "notebook"
    },
    "kernelspec": {
      "display_name": "Python 3",
      "language": "python",
      "name": "python3"
    },
    "language_info": {
      "codemirror_mode": {
        "name": "ipython",
        "version": 3
      },
      "file_extension": ".py",
      "mimetype": "text/x-python",
      "name": "python",
      "nbconvert_exporter": "python",
      "pygments_lexer": "ipython3",
      "version": "3.11.11"
    }
  },
  "nbformat": 4,
  "nbformat_minor": 0
}